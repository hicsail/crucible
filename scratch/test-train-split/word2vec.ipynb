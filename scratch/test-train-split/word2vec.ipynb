{
 "cells": [
  {
   "cell_type": "code",
   "execution_count": 6,
   "metadata": {},
   "outputs": [],
   "source": [
    "#!pip install --user spacy gensim\n"
   ]
  },
  {
   "cell_type": "code",
   "execution_count": null,
   "metadata": {},
   "outputs": [],
   "source": [
    "# https://machinelearningmastery.com/develop-word-embeddings-python-gensim/"
   ]
  },
  {
   "cell_type": "code",
   "execution_count": 8,
   "metadata": {},
   "outputs": [
    {
     "name": "stdout",
     "output_type": "stream",
     "text": [
      "Word2Vec(vocab=14, size=100, alpha=0.025)\n",
      "['and', 'word2vec', 'for', 'sentence', 'this', 'is', 'one', 'second', 'another', 'the', 'first', 'yet', 'final', 'more']\n",
      "[ 1.0910820e-03 -1.5077452e-03 -3.2069760e-03 -9.9484180e-04\n",
      "  3.1507821e-04  4.3721409e-03 -3.6966589e-03 -3.3398340e-03\n",
      " -4.5425897e-03  9.9963380e-04 -4.2361259e-03 -3.8322308e-03\n",
      "  4.3286034e-03 -3.2514911e-03  2.9569527e-03 -3.7188190e-03\n",
      " -1.0051982e-03  4.8464374e-03 -3.5323880e-03  1.2242071e-04\n",
      " -4.5874268e-03  3.7173247e-03 -4.1582971e-03 -3.9330549e-03\n",
      " -8.7048812e-04 -4.5904196e-03  3.7684049e-03 -3.9869444e-03\n",
      "  1.5684202e-03  4.3672328e-03  1.7569183e-03  1.4254355e-03\n",
      " -3.0226770e-03  1.5630876e-03  1.1366424e-03 -1.0663142e-03\n",
      "  4.9594906e-03  1.5107748e-03 -3.5520273e-03 -1.7370946e-03\n",
      " -4.4726627e-03 -3.6770348e-03  3.5596718e-03 -7.3829072e-04\n",
      "  7.4810127e-04  2.5676086e-03  8.0731243e-04 -2.7061251e-03\n",
      " -4.2320942e-03  3.4339249e-03  9.2918600e-04  4.3059429e-03\n",
      " -1.6868339e-03  2.3244848e-03 -3.9865668e-03  4.2214273e-03\n",
      "  3.0529061e-03  2.7524345e-03  4.3230103e-03 -3.9409990e-03\n",
      " -2.2007530e-03 -2.5688580e-03 -4.1240761e-03 -1.5698475e-03\n",
      " -3.0006173e-03 -3.1934893e-03  2.1189270e-03 -4.9184784e-03\n",
      " -2.9591753e-03 -2.7208854e-03 -3.6836134e-03  4.8212996e-03\n",
      " -3.2314796e-03  7.9252338e-04 -1.1393809e-03  4.1330149e-03\n",
      " -2.2852742e-03  1.1882690e-03  4.9270047e-03  1.0303492e-03\n",
      " -2.9270577e-03  2.5646228e-03  3.5660752e-04  3.5602620e-03\n",
      "  7.4526753e-05 -4.0080678e-04 -3.8333556e-03 -1.5198218e-03\n",
      " -1.2780972e-03 -3.4368543e-03 -3.1265458e-03  2.0513015e-03\n",
      " -4.0272819e-03 -3.5779302e-03 -1.9546321e-03 -1.0096101e-03\n",
      "  2.4777828e-03 -1.2672107e-03 -3.6294560e-03 -1.7686683e-03]\n",
      "Word2Vec(vocab=14, size=100, alpha=0.025)\n"
     ]
    },
    {
     "name": "stderr",
     "output_type": "stream",
     "text": [
      "/opt/anaconda2/lib/python2.7/site-packages/ipykernel/__main__.py:16: DeprecationWarning: Call to deprecated `__getitem__` (Method will be removed in 4.0.0, use self.wv.__getitem__() instead).\n"
     ]
    }
   ],
   "source": [
    "from gensim.models import Word2Vec\n",
    "# define training data\n",
    "sentences = [['this', 'is', 'the', 'first', 'sentence', 'for', 'word2vec'],\n",
    "             ['this', 'is', 'the', 'second', 'sentence'],\n",
    "            ['yet', 'another', 'sentence'],\n",
    "            ['one', 'more', 'sentence'],\n",
    "          ['and', 'the', 'final', 'sentence']]\n",
    "# train model\n",
    "model = Word2Vec(sentences, min_count=1)\n",
    "# summarize the loaded model\n",
    "print(model)\n",
    "# summarize vocabulary\n",
    "words = list(model.wv.vocab)\n",
    "print(words)\n",
    "# access vector for one word\n",
    "print(model['sentence'])\n",
    "# save model\n",
    "model.save('model.bin')\n",
    "# load model\n",
    "new_model = Word2Vec.load('model.bin')\n",
    "print(new_model)"
   ]
  },
  {
   "cell_type": "code",
   "execution_count": 14,
   "metadata": {},
   "outputs": [
    {
     "name": "stderr",
     "output_type": "stream",
     "text": [
      "/opt/anaconda2/lib/python2.7/site-packages/ipykernel/__main__.py:1: DeprecationWarning: Call to deprecated `__getitem__` (Method will be removed in 4.0.0, use self.wv.__getitem__() instead).\n",
      "  if __name__ == '__main__':\n"
     ]
    },
    {
     "data": {
      "text/plain": [
       "array([-4.6440992e-03, -6.0132443e-04, -1.3374176e-03, -1.6339988e-03,\n",
       "       -2.1278132e-03, -1.5240619e-03, -2.4973506e-03,  3.3543203e-03,\n",
       "       -3.8004781e-03,  2.7668320e-03,  3.9234650e-03, -3.2763132e-03,\n",
       "        4.9448521e-03, -2.5493780e-03,  1.3458437e-03, -1.3659151e-04,\n",
       "       -2.8822967e-03,  1.7685673e-03, -2.2904982e-04,  3.2883361e-03,\n",
       "       -4.6848492e-03,  2.0633459e-03,  1.6490954e-03, -1.8877866e-04,\n",
       "        4.2549493e-03,  2.7630550e-03, -1.9112352e-03, -3.8815211e-03,\n",
       "        4.8132548e-03, -2.7397939e-03, -1.6627091e-03, -3.6422170e-03,\n",
       "        3.1750984e-04, -3.8580617e-03,  4.0833857e-03,  1.8701147e-03,\n",
       "        2.3287933e-03, -4.0713648e-04, -4.2327004e-03, -3.2784387e-03,\n",
       "       -3.6153740e-03,  4.1795401e-03, -1.5532442e-03, -3.2907552e-03,\n",
       "       -2.1109510e-04,  1.3132485e-03,  4.3820902e-03,  1.7464123e-03,\n",
       "       -3.5944909e-03,  3.7756101e-03, -4.9062427e-03, -2.9272877e-03,\n",
       "       -1.4469029e-03, -1.3796511e-03, -2.7702381e-03, -5.6068873e-04,\n",
       "       -4.3868632e-03, -1.5419922e-03, -1.8185099e-03, -2.5594870e-03,\n",
       "        2.1166955e-03,  2.7218510e-03,  2.3642293e-04, -4.5204107e-03,\n",
       "        1.2856516e-03, -4.2942963e-03, -1.8036391e-03,  3.0163350e-03,\n",
       "        9.4503548e-04,  1.4898507e-03, -3.6304931e-03,  1.5326950e-03,\n",
       "       -4.5984932e-03,  4.1812801e-04,  1.2770530e-03,  2.9732434e-03,\n",
       "       -5.9188931e-04,  4.9382932e-03, -4.7917524e-03,  9.9151826e-04,\n",
       "       -2.5773542e-03, -1.1373014e-03, -2.4691925e-03, -4.9725601e-05,\n",
       "        4.9357908e-03, -7.9368777e-04, -4.0182234e-03, -4.0923241e-03,\n",
       "        4.4515268e-03, -3.7453766e-03, -1.1632927e-03, -1.0659061e-03,\n",
       "        3.8761715e-03,  4.8553278e-03,  1.6244850e-03, -3.1225125e-03,\n",
       "        2.0174757e-03,  2.3416320e-03, -3.3498716e-03, -1.9820222e-04],\n",
       "      dtype=float32)"
      ]
     },
     "execution_count": 14,
     "metadata": {},
     "output_type": "execute_result"
    }
   ],
   "source": [
    "new_model['this']"
   ]
  },
  {
   "cell_type": "code",
   "execution_count": 15,
   "metadata": {},
   "outputs": [
    {
     "name": "stderr",
     "output_type": "stream",
     "text": [
      "/opt/anaconda2/lib/python2.7/site-packages/ipykernel/__main__.py:1: DeprecationWarning: Call to deprecated `similar_by_word` (Method will be removed in 4.0.0, use self.wv.similar_by_word() instead).\n",
      "  if __name__ == '__main__':\n"
     ]
    },
    {
     "data": {
      "text/plain": [
       "[('final', 0.2278500199317932),\n",
       " ('sentence', 0.1280028223991394),\n",
       " ('one', 0.10183044523000717),\n",
       " ('for', 0.05698908120393753),\n",
       " ('first', 0.03678242117166519),\n",
       " ('more', 0.03304789960384369),\n",
       " ('another', 0.005246663466095924),\n",
       " ('and', -0.003007281571626663),\n",
       " ('yet', -0.035571347922086716),\n",
       " ('word2vec', -0.06371437758207321)]"
      ]
     },
     "execution_count": 15,
     "metadata": {},
     "output_type": "execute_result"
    }
   ],
   "source": [
    "new_model.similar_by_word('this')"
   ]
  },
  {
   "cell_type": "code",
   "execution_count": null,
   "metadata": {},
   "outputs": [],
   "source": []
  },
  {
   "cell_type": "markdown",
   "metadata": {},
   "source": [
    "# Our example -->"
   ]
  },
  {
   "cell_type": "code",
   "execution_count": 20,
   "metadata": {},
   "outputs": [
    {
     "name": "stdout",
     "output_type": "stream",
     "text": [
      "Word2Vec(vocab=11, size=100, alpha=0.025)\n"
     ]
    }
   ],
   "source": [
    "from gensim.models import Word2Vec\n",
    "# define training data\n",
    "sentences = [['(', '10mlA', '+', '20mlB', '->', '30mlC'],\n",
    "             ['(','(', '10mlA', '+', '20mlB',')', '->', '30mlC',')','->','20mlD'],\n",
    "            ['(', '10mlD', '+', '20mlE', '->', '30mlC'],\n",
    "            ['(', '10mlE', '+', '20mlD', '->', '30mlC'],\n",
    "          ['(', '10mlA', '+', '20mlD', '->', '30mlC']]\n",
    "# train model\n",
    "model = Word2Vec(sentences, min_count=1)\n",
    "# summarize the loaded model\n",
    "print(model)\n",
    "# summarize vocabulary\n",
    "words = list(model.wv.vocab)\n"
   ]
  },
  {
   "cell_type": "code",
   "execution_count": 21,
   "metadata": {},
   "outputs": [
    {
     "name": "stdout",
     "output_type": "stream",
     "text": [
      "['10mlE', '10mlD', '10mlA', ')', '(', '+', '30mlC', '20mlD', '20mlE', '20mlB', '->']\n"
     ]
    }
   ],
   "source": [
    "print(words)"
   ]
  },
  {
   "cell_type": "code",
   "execution_count": 22,
   "metadata": {},
   "outputs": [
    {
     "name": "stdout",
     "output_type": "stream",
     "text": [
      "Word2Vec(vocab=11, size=100, alpha=0.025)\n"
     ]
    }
   ],
   "source": [
    "model.save('model.bin')\n",
    "# load model\n",
    "new_model = Word2Vec.load('model.bin')\n",
    "print(new_model)"
   ]
  },
  {
   "cell_type": "code",
   "execution_count": 23,
   "metadata": {},
   "outputs": [
    {
     "name": "stdout",
     "output_type": "stream",
     "text": [
      "[ 1.6837033e-03  4.0743407e-03 -2.3614105e-03  3.1062954e-03\n",
      " -2.4846441e-03 -2.6714718e-03 -6.4985559e-04  1.4982581e-05\n",
      "  2.3129669e-03 -8.4148603e-04 -1.3131613e-03  2.4039762e-03\n",
      "  4.2566201e-03  3.0862107e-03  6.7831622e-04  9.6817786e-04\n",
      "  2.1257517e-03  2.6805045e-03  3.5151020e-03 -2.0632511e-03\n",
      " -4.0654922e-03  4.7738953e-03  1.4675540e-03 -3.3415437e-03\n",
      " -2.3692129e-03  2.9846835e-03  3.3440669e-03  1.2262779e-03\n",
      "  4.3988177e-03 -2.4985068e-03  1.3989914e-03  3.3619015e-03\n",
      " -3.5726542e-03 -6.9388445e-04  2.5893543e-03  3.2175400e-03\n",
      "  1.4815693e-03  1.1937203e-03  3.8965822e-03  3.7701062e-03\n",
      "  3.1060537e-03  2.0288036e-03 -4.3971027e-04 -3.7973016e-03\n",
      "  4.1083153e-03 -4.0085634e-04 -1.6022483e-03 -3.5111855e-03\n",
      "  2.1929685e-03  4.3698777e-03 -3.6512304e-03 -2.3772193e-03\n",
      " -2.8314262e-03 -5.9047993e-04  9.1498229e-04  2.3667377e-03\n",
      " -4.9274201e-03  1.5264546e-03 -1.5724803e-04  5.4670760e-04\n",
      "  4.0820027e-03  1.7990804e-03  3.1328585e-03 -1.7987913e-03\n",
      " -4.4165356e-03 -2.9801023e-03  1.1122988e-03 -2.0118803e-03\n",
      "  2.4262161e-03  2.9492835e-04 -3.0789424e-03  7.5203672e-05\n",
      "  3.4332995e-03 -1.9397712e-03 -4.1081565e-03 -2.5257904e-03\n",
      "  4.0213997e-03 -1.4951149e-03  3.6054258e-03 -3.7097007e-03\n",
      "  4.8972550e-03 -2.0006911e-03  6.7550532e-04  2.4111005e-03\n",
      "  4.0015397e-03  2.9324270e-03 -4.4103991e-03  1.3864479e-03\n",
      "  2.0627279e-03 -4.3028966e-03 -1.1328172e-03  7.1681285e-04\n",
      "  2.8657605e-04  1.5546111e-04 -2.0177809e-03  2.6230447e-04\n",
      " -1.7703541e-03  9.1863121e-04 -1.8543981e-03  3.3601976e-03]\n"
     ]
    },
    {
     "name": "stderr",
     "output_type": "stream",
     "text": [
      "/opt/anaconda2/lib/python2.7/site-packages/ipykernel/__main__.py:2: DeprecationWarning: Call to deprecated `__getitem__` (Method will be removed in 4.0.0, use self.wv.__getitem__() instead).\n",
      "  from ipykernel import kernelapp as app\n"
     ]
    }
   ],
   "source": [
    "# access vector for one word\n",
    "print(model['10mlE'])\n",
    "# save model"
   ]
  },
  {
   "cell_type": "code",
   "execution_count": 24,
   "metadata": {},
   "outputs": [
    {
     "name": "stderr",
     "output_type": "stream",
     "text": [
      "/opt/anaconda2/lib/python2.7/site-packages/ipykernel/__main__.py:1: DeprecationWarning: Call to deprecated `similar_by_word` (Method will be removed in 4.0.0, use self.wv.similar_by_word() instead).\n",
      "  if __name__ == '__main__':\n"
     ]
    },
    {
     "data": {
      "text/plain": [
       "[('30mlC', 0.08354386687278748),\n",
       " ('20mlB', 0.07170380651950836),\n",
       " ('+', 0.05361246317625046),\n",
       " ('20mlE', 0.03904734551906586),\n",
       " ('->', -0.04081958532333374),\n",
       " ('10mlD', -0.07934808731079102),\n",
       " ('20mlD', -0.0987883061170578),\n",
       " ('10mlA', -0.10004549473524094),\n",
       " (')', -0.1625494658946991),\n",
       " ('(', -0.3433842658996582)]"
      ]
     },
     "execution_count": 24,
     "metadata": {},
     "output_type": "execute_result"
    }
   ],
   "source": [
    "model.similar_by_word('10mlE')"
   ]
  },
  {
   "cell_type": "code",
   "execution_count": null,
   "metadata": {},
   "outputs": [],
   "source": []
  },
  {
   "cell_type": "code",
   "execution_count": 26,
   "metadata": {},
   "outputs": [
    {
     "name": "stderr",
     "output_type": "stream",
     "text": [
      "/opt/anaconda2/lib/python2.7/site-packages/ipykernel/__main__.py:6: DeprecationWarning: Call to deprecated `__getitem__` (Method will be removed in 4.0.0, use self.wv.__getitem__() instead).\n"
     ]
    },
    {
     "data": {
      "image/png": "[encoded data removed]",
      "text/plain": [
       "<Figure size 432x288 with 1 Axes>"
      ]
     },
     "metadata": {},
     "output_type": "display_data"
    }
   ],
   "source": [
    "from sklearn.decomposition import PCA\n",
    "from matplotlib import pyplot\n",
    "%matplotlib inline\n",
    "\n",
    "# fit a 2d PCA model to the vectors\n",
    "X = model[model.wv.vocab]\n",
    "pca = PCA(n_components=2)\n",
    "result = pca.fit_transform(X)\n",
    "# create a scatter plot of the projection\n",
    "pyplot.scatter(result[:, 0], result[:, 1])\n",
    "words = list(model.wv.vocab)\n",
    "for i, word in enumerate(words):\n",
    "\tpyplot.annotate(word, xy=(result[i, 0], result[i, 1]))\n",
    "pyplot.show()"
   ]
  },
  {
   "cell_type": "code",
   "execution_count": null,
   "metadata": {},
   "outputs": [],
   "source": []
  },
  {
   "cell_type": "code",
   "execution_count": null,
   "metadata": {},
   "outputs": [],
   "source": []
  },
  {
   "cell_type": "code",
   "execution_count": null,
   "metadata": {},
   "outputs": [],
   "source": []
  }
 ],
 "metadata": {
  "anaconda-cloud": {},
  "kernelspec": {
   "display_name": "Python 3",
   "language": "python",
   "name": "python3"
  },
  "language_info": {
   "codemirror_mode": {
    "name": "ipython",
    "version": 3
   },
   "file_extension": ".py",
   "mimetype": "text/x-python",
   "name": "python",
   "nbconvert_exporter": "python",
   "pygments_lexer": "ipython3",
   "version": "3.7.3"
  }
 },
 "nbformat": 4,
 "nbformat_minor": 2
}
